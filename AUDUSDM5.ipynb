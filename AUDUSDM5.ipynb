{
 "cells": [
  {
   "cell_type": "code",
   "execution_count": 9,
   "metadata": {},
   "outputs": [],
   "source": [
    "import numpy as np\n",
    "import pandas as pd\n",
    "import matplotlib.pyplot as plt\n",
    "import ga\n",
    "from ga import *\n",
    "from tradingrule import *"
   ]
  },
  {
   "cell_type": "markdown",
   "metadata": {},
   "source": [
    "### Genetic Algo"
   ]
  },
  {
   "cell_type": "code",
   "execution_count": 12,
   "metadata": {},
   "outputs": [],
   "source": [
    "# GA\n",
    "import numpy as np\n",
    "import matplotlib.pyplot as plt\n",
    "\n",
    "def cal_pop_fitness(equation_inputs, pop):\n",
    "    # Calculating the fitness value of each solution in the current population.\n",
    "    # The fitness function calulates the sum of products between each input and its corresponding weight.\n",
    "    # fitness = np.sum(pop*equation_inputs, axis=1)\n",
    "    # pop size (8,6)\n",
    "    # fitness size 8x1\n",
    "    logr = equation_inputs[:,0]\n",
    "    temp = pop@equation_inputs[:,1:7].T\n",
    "    fitness = np.sum(temp*logr, axis = 1)/np.sum(pop, axis = 1)\n",
    "    return fitness\n",
    "\n",
    "def select_mating_pool(pop, fitness, num_parents):\n",
    "    # Selecting the best individuals in the current generation as parents for producing the offspring of the next generation.\n",
    "    parents = np.empty((num_parents, pop.shape[1]))\n",
    "    for parent_num in range(num_parents):\n",
    "        max_fitness_idx = np.where(fitness == np.max(fitness))\n",
    "        max_fitness_idx = max_fitness_idx[0][0]\n",
    "        parents[parent_num, :] = pop[max_fitness_idx, :]\n",
    "        fitness[max_fitness_idx] = -99999999999\n",
    "    return parents\n",
    "\n",
    "def crossover(parents, offspring_size):\n",
    "    offspring = np.empty(offspring_size)\n",
    "    # The point at which crossover takes place between two parents. Usually, it is at the center.\n",
    "    crossover_point = np.uint8(offspring_size[1]/2)\n",
    "\n",
    "    for k in range(offspring_size[0]):\n",
    "        # Index of the first parent to mate.\n",
    "        parent1_idx = k%parents.shape[0]\n",
    "        # Index of the second parent to mate.\n",
    "        parent2_idx = (k+1)%parents.shape[0]\n",
    "        # The new offspring will have its first half of its genes taken from the first parent.\n",
    "        offspring[k, 0:crossover_point] = parents[parent1_idx, 0:crossover_point]\n",
    "        # The new offspring will have its second half of its genes taken from the second parent.\n",
    "        offspring[k, crossover_point:] = parents[parent2_idx, crossover_point:]\n",
    "    return offspring\n",
    "\n",
    "def mutation(offspring_crossover, num_mutations=1):\n",
    "    mutations_counter = np.uint8(offspring_crossover.shape[1] / num_mutations)\n",
    "    # Mutation changes a number of genes as defined by the num_mutations argument. The changes are random.\n",
    "    for idx in range(offspring_crossover.shape[0]):\n",
    "        gene_idx = mutations_counter - 1\n",
    "        for _ in range(num_mutations):\n",
    "            # The random value to be added to the gene.\n",
    "            random_value = np.random.uniform(-1.0, 1.0, 1)\n",
    "            offspring_crossover[idx, gene_idx] = offspring_crossover[idx, gene_idx] + random_value\n",
    "            gene_idx = gene_idx + mutations_counter\n",
    "    return offspring_crossover\n",
    "\n",
    "def cal_pop_fitness(equation_inputs, pop, opt = 0):\n",
    "    # Calculating the fitness value of each solution in the current population.\n",
    "    # Opt = 0 is the GAMSSR model\n",
    "    logr = equation_inputs[:,0] # n,\n",
    "    positions = pop@equation_inputs[:,1:].T\n",
    "    port_r = (positions*logr).astype(np.float64)\n",
    "    SSR = np.mean(port_r, axis = 1)/np.std(port_r, axis = 1)/(-np.sum(port_r[port_r<0]))\n",
    "    return SSR\n",
    "\n",
    "def GA_train(training_df, optimizing_selection=0, sol_per_pop=8, num_parents_mating=4, num_generations = 200):\n",
    "    \"\"\"\n",
    "    Genetic algorithm parameters:\n",
    "        Mating pool size\n",
    "        Population size\n",
    "    \"\"\"\n",
    "    #Inputs of the equation.\n",
    "    equation_inputs = training_df.values\n",
    "    # Number of the weights we are looking to optimize.\n",
    "    num_weights = training_df.shape[1]-1\n",
    "\n",
    "    # Defining the population size.\n",
    "    pop_size = (sol_per_pop,num_weights) \n",
    "    # The population will have sol_per_pop chromosome \n",
    "    # where each chromosome has num_weights genes.\n",
    "    \n",
    "    # Creating the initial population.\n",
    "    new_population = np.random.uniform(low=-1.0, high=1.0, size=pop_size)\n",
    "    # print(new_population)\n",
    "\n",
    "    best_outputs = []\n",
    "    \n",
    "    for generation in range(num_generations):\n",
    "    #     print(\"Generation : \", generation)\n",
    "        # Measuring the fitness of each chromosome in the population.\n",
    "        fitness = cal_pop_fitness(equation_inputs, new_population, optimizing_selection)\n",
    "\n",
    "        best_outputs.append(np.max(fitness))\n",
    "\n",
    "        # Selecting the best parents in the population for mating.\n",
    "        parents = ga.select_mating_pool(new_population, fitness, \n",
    "                                          num_parents_mating)\n",
    "\n",
    "        # Generating next generation using crossover.\n",
    "        offspring_crossover = ga.crossover(parents,\n",
    "                                           offspring_size=(pop_size[0]-parents.shape[0], num_weights))\n",
    "\n",
    "        # Adding some variations to the offspring using mutation.\n",
    "        offspring_mutation = ga.mutation(offspring_crossover, num_mutations=2)\n",
    "\n",
    "        # Creating the new population based on the parents and offspring.\n",
    "        new_population[0:parents.shape[0], :] = parents\n",
    "        new_population[parents.shape[0]:, :] = offspring_mutation\n",
    "\n",
    "    # Getting the best solution after iterating finishing all generations.\n",
    "    # At first, the fitness is calculated for each solution in the final generation.\n",
    "    fitness = cal_pop_fitness(equation_inputs, new_population, optimizing_selection)\n",
    "    # Then return the index of that solution corresponding to the best fitness.\n",
    "    best_match_idx = np.where(fitness == np.max(fitness))\n",
    "        \n",
    "    plt.plot(best_outputs)\n",
    "    plt.xlabel(\"Iteration\")\n",
    "    plt.ylabel('SSR ratio')\n",
    "    plt.show()\n",
    "    return new_population[best_match_idx]"
   ]
  },
  {
   "cell_type": "markdown",
   "metadata": {},
   "source": [
    "### Data preprocessing"
   ]
  },
  {
   "cell_type": "code",
   "execution_count": 2,
   "metadata": {},
   "outputs": [
    {
     "data": {
      "application/vnd.microsoft.datawrangler.viewer.v0+json": {
       "columns": [
        {
         "name": "index",
         "rawType": "int64",
         "type": "integer"
        },
        {
         "name": "Open",
         "rawType": "float64",
         "type": "float"
        },
        {
         "name": "High",
         "rawType": "float64",
         "type": "float"
        },
        {
         "name": "Low",
         "rawType": "float64",
         "type": "float"
        },
        {
         "name": "Close",
         "rawType": "float64",
         "type": "float"
        }
       ],
       "conversionMethod": "pd.DataFrame",
       "ref": "fb2a39ab-26b7-4488-9e20-58bc8ba678a9",
       "rows": [
        [
         "0",
         "0.70613",
         "0.70613",
         "0.70575",
         "0.70575"
        ],
        [
         "1",
         "0.70575",
         "0.70579",
         "0.70568",
         "0.70579"
        ],
        [
         "2",
         "0.70579",
         "0.70598",
         "0.70578",
         "0.70595"
        ],
        [
         "3",
         "0.70596",
         "0.70618",
         "0.70594",
         "0.70618"
        ],
        [
         "4",
         "0.70618",
         "0.70628",
         "0.70593",
         "0.70595"
        ]
       ],
       "shape": {
        "columns": 4,
        "rows": 5
       }
      },
      "text/html": [
       "<div>\n",
       "<style scoped>\n",
       "    .dataframe tbody tr th:only-of-type {\n",
       "        vertical-align: middle;\n",
       "    }\n",
       "\n",
       "    .dataframe tbody tr th {\n",
       "        vertical-align: top;\n",
       "    }\n",
       "\n",
       "    .dataframe thead th {\n",
       "        text-align: right;\n",
       "    }\n",
       "</style>\n",
       "<table border=\"1\" class=\"dataframe\">\n",
       "  <thead>\n",
       "    <tr style=\"text-align: right;\">\n",
       "      <th></th>\n",
       "      <th>Open</th>\n",
       "      <th>High</th>\n",
       "      <th>Low</th>\n",
       "      <th>Close</th>\n",
       "    </tr>\n",
       "  </thead>\n",
       "  <tbody>\n",
       "    <tr>\n",
       "      <th>0</th>\n",
       "      <td>0.70613</td>\n",
       "      <td>0.70613</td>\n",
       "      <td>0.70575</td>\n",
       "      <td>0.70575</td>\n",
       "    </tr>\n",
       "    <tr>\n",
       "      <th>1</th>\n",
       "      <td>0.70575</td>\n",
       "      <td>0.70579</td>\n",
       "      <td>0.70568</td>\n",
       "      <td>0.70579</td>\n",
       "    </tr>\n",
       "    <tr>\n",
       "      <th>2</th>\n",
       "      <td>0.70579</td>\n",
       "      <td>0.70598</td>\n",
       "      <td>0.70578</td>\n",
       "      <td>0.70595</td>\n",
       "    </tr>\n",
       "    <tr>\n",
       "      <th>3</th>\n",
       "      <td>0.70596</td>\n",
       "      <td>0.70618</td>\n",
       "      <td>0.70594</td>\n",
       "      <td>0.70618</td>\n",
       "    </tr>\n",
       "    <tr>\n",
       "      <th>4</th>\n",
       "      <td>0.70618</td>\n",
       "      <td>0.70628</td>\n",
       "      <td>0.70593</td>\n",
       "      <td>0.70595</td>\n",
       "    </tr>\n",
       "  </tbody>\n",
       "</table>\n",
       "</div>"
      ],
      "text/plain": [
       "      Open     High      Low    Close\n",
       "0  0.70613  0.70613  0.70575  0.70575\n",
       "1  0.70575  0.70579  0.70568  0.70579\n",
       "2  0.70579  0.70598  0.70578  0.70595\n",
       "3  0.70596  0.70618  0.70594  0.70618\n",
       "4  0.70618  0.70628  0.70593  0.70595"
      ]
     },
     "execution_count": 2,
     "metadata": {},
     "output_type": "execute_result"
    }
   ],
   "source": [
    "data = pd.read_csv(\"data/AUDUSD_M5.csv\")\n",
    "data = data[['Open', 'High', 'Low', 'Close']]\n",
    "data.head()"
   ]
  },
  {
   "cell_type": "code",
   "execution_count": 3,
   "metadata": {},
   "outputs": [],
   "source": [
    "X_train = data.loc[:len(data)//2]\n",
    "X_test = data.loc[len(data)//2:]"
   ]
  },
  {
   "cell_type": "code",
   "execution_count": 4,
   "metadata": {},
   "outputs": [
    {
     "name": "stdout",
     "output_type": "stream",
     "text": [
      "Training Rule1 score is: 0.422\n",
      "Training Rule2 score is: 0.422\n",
      "Training Rule3 score is: 0.451\n",
      "Training Rule4 score is: 0.423\n",
      "Training Rule5 score is: 0.401\n",
      "Training Rule6 score is: 0.447\n",
      "Training Rule7 score is: 0.453\n",
      "Training Rule8 score is: 0.370\n",
      "Training Rule9 score is: 0.452\n",
      "Training Rule10 score is: 0.460\n",
      "Training Rule11 score is: 0.363\n",
      "Training Rule12 score is: 0.457\n",
      "Training Rule13 score is: 0.363\n",
      "Training Rule14 score is: 0.239\n",
      "Training Rule15 score is: 0.173\n",
      "Training Rule16 score is: 0.117\n"
     ]
    }
   ],
   "source": [
    "trading_rule_params = trainTradingRuleFeatures(X_train)"
   ]
  },
  {
   "cell_type": "code",
   "execution_count": 6,
   "metadata": {},
   "outputs": [],
   "source": [
    "X_trading_rule_train = getTradingRuleFeatures(X_train, trading_rule_params)\n",
    "X_trading_rule_test = getTradingRuleFeatures(X_test, trading_rule_params)"
   ]
  },
  {
   "cell_type": "markdown",
   "metadata": {},
   "source": [
    "### Genetic Algorithm to Find the Optimal Combination of Rules"
   ]
  },
  {
   "cell_type": "code",
   "execution_count": 7,
   "metadata": {},
   "outputs": [],
   "source": [
    "def evaluate(position, logr):\n",
    "    port_r = logr*position\n",
    "    score = port_r.sum()\n",
    "    print(\"The maximum position is {:.3f}, the mean postiion is {:3f}.\".format(position.max(), abs(position).mean()))\n",
    "    print(\"The return over the period is: {:.2f}%\".format(score*100))\n",
    "    print(\"Maximum drawdown is: {:.3f}%\".format(min(port_r.cumsum())*100))\n",
    "    sr_train = port_r.mean()/port_r.std()\n",
    "    print(\"SR ratio is: {:.3f}\".format(sr_train*(252*24*12)**0.5))"
   ]
  },
  {
   "cell_type": "code",
   "execution_count": 13,
   "metadata": {},
   "outputs": [
    {
     "data": {
      "image/png": "[encoded data removed]",
      "text/plain": [
       "<Figure size 640x480 with 1 Axes>"
      ]
     },
     "metadata": {},
     "output_type": "display_data"
    }
   ],
   "source": [
    "max_SSR_weights = GA_train(X_trading_rule_train, optimizing_selection=2, sol_per_pop=10, num_parents_mating=6, num_generations = 200)"
   ]
  },
  {
   "cell_type": "code",
   "execution_count": 14,
   "metadata": {},
   "outputs": [
    {
     "name": "stdout",
     "output_type": "stream",
     "text": [
      "Training data evaluation:\n",
      "The maximum position is 1.000, the mean postiion is 0.414823.\n",
      "The return over the period is: 17.79%\n",
      "Maximum drawdown is: -0.871%\n",
      "SR ratio is: 8.175\n"
     ]
    }
   ],
   "source": [
    "position = (X_trading_rule_train.values[:, 1:]@max_SSR_weights.T).reshape(X_trading_rule_train.shape[0],)\n",
    "position /= np.max(abs(position))\n",
    "print('Training data evaluation:')\n",
    "evaluate(position, X_trading_rule_train.logr)\n",
    "port_r_train = X_trading_rule_train.logr*position"
   ]
  },
  {
   "cell_type": "code",
   "execution_count": 15,
   "metadata": {},
   "outputs": [
    {
     "name": "stdout",
     "output_type": "stream",
     "text": [
      "Testing data evaluation:\n",
      "The maximum position is 0.994, the mean postiion is 0.433992.\n",
      "The return over the period is: 9.92%\n",
      "Maximum drawdown is: -0.242%\n",
      "SR ratio is: 5.605\n"
     ]
    }
   ],
   "source": [
    "position = (X_trading_rule_test.values[:, 1:]@max_SSR_weights.T).reshape(X_trading_rule_test.shape[0],)\n",
    "position /= np.max(abs(position))\n",
    "print('Testing data evaluation:')\n",
    "evaluate(position, X_trading_rule_test.logr)\n",
    "port_r_test = X_trading_rule_test.logr*position"
   ]
  },
  {
   "cell_type": "code",
   "execution_count": 16,
   "metadata": {
    "scrolled": true
   },
   "outputs": [
    {
     "data": {
      "image/png": "[encoded data removed]",
      "text/plain": [
       "<Figure size 640x480 with 1 Axes>"
      ]
     },
     "metadata": {},
     "output_type": "display_data"
    }
   ],
   "source": [
    "plt.plot(range(len(port_r_train)), port_r_train.cumsum(), label='training')\n",
    "plt.plot(range(len(port_r_test)), port_r_test.cumsum(), label='testing')\n",
    "plt.xlabel('Timesteps')\n",
    "plt.ylabel('Accumulated return')\n",
    "plt.legend()\n",
    "plt.show()"
   ]
  },
  {
   "cell_type": "code",
   "execution_count": null,
   "metadata": {},
   "outputs": [],
   "source": []
  }
 ],
 "metadata": {
  "kernelspec": {
   "display_name": "py311",
   "language": "python",
   "name": "python3"
  },
  "language_info": {
   "codemirror_mode": {
    "name": "ipython",
    "version": 3
   },
   "file_extension": ".py",
   "mimetype": "text/x-python",
   "name": "python",
   "nbconvert_exporter": "python",
   "pygments_lexer": "ipython3",
   "version": "3.11.9"
  }
 },
 "nbformat": 4,
 "nbformat_minor": 2
}
